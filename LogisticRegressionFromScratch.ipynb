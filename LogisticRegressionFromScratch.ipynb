{
  "nbformat": 4,
  "nbformat_minor": 0,
  "metadata": {
    "colab": {
      "provenance": [],
      "authorship_tag": "ABX9TyOlKwZ85Xev6x7iiXgB9Ilv",
      "include_colab_link": true
    },
    "kernelspec": {
      "name": "python3",
      "display_name": "Python 3"
    },
    "language_info": {
      "name": "python"
    }
  },
  "cells": [
    {
      "cell_type": "markdown",
      "metadata": {
        "id": "view-in-github",
        "colab_type": "text"
      },
      "source": [
        "<a href=\"https://colab.research.google.com/github/sm-SUSHANTA-07/Machine-Learning-Project/blob/main/LogisticRegressionFromScratch.ipynb\" target=\"_parent\"><img src=\"https://colab.research.google.com/assets/colab-badge.svg\" alt=\"Open In Colab\"/></a>"
      ]
    },
    {
      "cell_type": "code",
      "execution_count": 177,
      "metadata": {
        "id": "xS7sjMIMSp2z"
      },
      "outputs": [],
      "source": [
        "# Implementation of Logistic Regression from scratch with maths and python\n",
        "import numpy as np\n"
      ]
    },
    {
      "cell_type": "code",
      "source": [
        "# sigmoid function\n",
        "def sigmoid(z) :\n",
        "  return 1/(1+np.exp(-z))"
      ],
      "metadata": {
        "id": "jA6g3P5OS26V"
      },
      "execution_count": 178,
      "outputs": []
    },
    {
      "cell_type": "code",
      "source": [
        "# calculate gradient\n",
        "def calculate_gradient(theta, X, y):\n",
        "  m = y.size\n",
        "  return (X.T@(sigmoid(X@theta)-y))/m"
      ],
      "metadata": {
        "id": "91NYqZUSTLXM"
      },
      "execution_count": 179,
      "outputs": []
    },
    {
      "cell_type": "code",
      "source": [
        "#calculate gradient descent\n",
        "def gradient_descent(X,y,alpha =0.1, num_iter=1000, tol = 1e-7) :\n",
        "  X_b = np.c_[np.ones((X.shape[0],1)),X]\n",
        "  theta = np.zeros(X_b.shape[1])\n",
        "  for i in range (num_iter):\n",
        "    grad = calculate_gradient(theta, X_b, y)\n",
        "    theta -=alpha*grad\n",
        "    if np.linalg.norm(grad)<tol:\n",
        "      break\n",
        "  return theta"
      ],
      "metadata": {
        "id": "4VVCldnlUA0l"
      },
      "execution_count": 180,
      "outputs": []
    },
    {
      "cell_type": "code",
      "source": [
        "# predict probability\n",
        "def predic_proba (X, theta):\n",
        "  X_b = np.c_[np.ones((X.shape[0],1)), X]\n",
        "  return sigmoid(X_b@theta)"
      ],
      "metadata": {
        "id": "dvITaTnQWEWt"
      },
      "execution_count": 181,
      "outputs": []
    },
    {
      "cell_type": "code",
      "source": [
        "# predict label wise\n",
        "def predict(X, theta, threshold = 0.5):\n",
        "\n",
        "\n",
        "  return (predic_proba(X,theta)>=threshold).astype(int)"
      ],
      "metadata": {
        "id": "elLw9Y-UWqK8"
      },
      "execution_count": 182,
      "outputs": []
    },
    {
      "cell_type": "markdown",
      "source": [
        "Now lets test how our Linear Regression model work with dataset"
      ],
      "metadata": {
        "id": "p1j-wK4YYuXu"
      }
    },
    {
      "cell_type": "code",
      "source": [
        "#import some utilities from sklearn for data preprocessing and check accuracy of our machine learning model, not using sklearn for linear regression model\n",
        "from sklearn.preprocessing import StandardScaler\n",
        "from sklearn.model_selection import train_test_split\n",
        "from sklearn.metrics import accuracy_score\n",
        "from sklearn.datasets import load_breast_cancer"
      ],
      "metadata": {
        "id": "AL-g-qkGZ9em"
      },
      "execution_count": 183,
      "outputs": []
    },
    {
      "cell_type": "code",
      "source": [
        "# split the dataset in training data and testing data\n",
        "X, y = load_breast_cancer(return_X_y =True)\n",
        "X_train, X_test, y_train, y_test = train_test_split(X,y,stratify=y, test_size=0.1)"
      ],
      "metadata": {
        "id": "ymhZxW3DaWfr"
      },
      "execution_count": 184,
      "outputs": []
    },
    {
      "cell_type": "code",
      "source": [
        "#data normalization or standradization\n",
        "scaler = StandardScaler()\n",
        "X_train_scaled =scaler.fit_transform(X_train)\n",
        "\n",
        "X_test_scaled = scaler.transform(X_test)"
      ],
      "metadata": {
        "id": "OHq9z4rhbNlp"
      },
      "execution_count": 185,
      "outputs": []
    },
    {
      "cell_type": "code",
      "source": [
        "theta_hat = gradient_descent(X_train_scaled, y_train, alpha=0.1)\n",
        "y_pred_train = predict(X_train_scaled, theta_hat)\n",
        "y_pred_test = predict(X_test_scaled, theta_hat)"
      ],
      "metadata": {
        "id": "1p-zc0eddBbk"
      },
      "execution_count": 186,
      "outputs": []
    },
    {
      "cell_type": "code",
      "source": [
        "train_acc = accuracy_score(y_train, y_pred_train)\n",
        "test_acc = accuracy_score(y_test, y_pred_test)\n"
      ],
      "metadata": {
        "id": "NCb2T2X7d-yf"
      },
      "execution_count": 187,
      "outputs": []
    },
    {
      "cell_type": "code",
      "source": [
        "print(train_acc)\n",
        "print(test_acc)\n"
      ],
      "metadata": {
        "colab": {
          "base_uri": "https://localhost:8080/"
        },
        "id": "Ko9uv_B-fDOd",
        "outputId": "f47e9033-5d42-44f5-be7c-54d806d40a5c"
      },
      "execution_count": 188,
      "outputs": [
        {
          "output_type": "stream",
          "name": "stdout",
          "text": [
            "0.984375\n",
            "0.9649122807017544\n"
          ]
        }
      ]
    }
  ]
}